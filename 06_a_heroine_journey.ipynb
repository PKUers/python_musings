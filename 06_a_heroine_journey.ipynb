{
 "cells": [
  {
   "cell_type": "code",
   "execution_count": 1,
   "metadata": {},
   "outputs": [
    {
     "name": "stdout",
     "output_type": "stream",
     "text": [
      "On a beautiful springtime day our heroine, Lilian, is born.\n",
      "She spends her childhood and teenage years in a small Village.\n",
      "After turning 18, she becomes more and more intrigured by the surrounding Forest.\n"
     ]
    }
   ],
   "source": [
    "HERO_NAME = 'Lilian'\n",
    "\n",
    "class Village(type):\n",
    "    def __call__(cls):\n",
    "        print(f'She senses a strong calling pulling her towards adventure.')\n",
    "        print(f'She waves her {cls.__class__.__name__} goodbye and heads into the {cls.__name__}.')\n",
    "        # because we override __call__, the mechanism of calling __init__ after __new__ returns\n",
    "        # as describe here https://docs.python.org/3/reference/datamodel.html#object.__new__ doesn't get triggered\n",
    "        # we need to pass the instance to __init__ manually\n",
    "        new_instance = cls.__new__(cls)\n",
    "        cls.__init__(new_instance)\n",
    "        return new_instance\n",
    "    def __new__(cls, name, bases, dct):\n",
    "        print(f\"On a beautiful springtime day our heroine, {HERO_NAME}, is born.\")\n",
    "        print(f\"She spends her childhood and teenage years in a small {cls.__name__}.\")\n",
    "        return super().__new__(cls, name, bases, dct)\n",
    "    def __init__(cls, name, bases, dct):\n",
    "        print(f'After turning 18, she becomes more and more intrigured by the surrounding {cls.__name__}.')\n",
    "\n",
    "class Forest(metaclass=Village):\n",
    "    def __new__(cls):\n",
    "        print('She encounters a sword burried in a giant boulder.')\n",
    "        print('She pulls it out with ease - birds sing, sun shines, the world trembles.')\n",
    "        return super().__new__(cls)\n",
    "    def __init__(self):\n",
    "        print('There is a dragon eating up lambs and villagers. She proceeds to kill it.')\n",
    "        print('The king offers his son in marriage and half the kingdom.')\n",
    "    def __call__(self):\n",
    "        print(f'Our heroine takes a stroll through the {self.__class__.__name__} and listens to her heart.')\n",
    "        print(f'She gladly accepts the kingdom but passes on the prince.\\nTHE END')"
   ]
  },
  {
   "cell_type": "code",
   "execution_count": 2,
   "metadata": {},
   "outputs": [
    {
     "name": "stdout",
     "output_type": "stream",
     "text": [
      "She senses a strong calling pulling her towards adventure.\n",
      "She waves her Village goodbye and heads into the Forest.\n",
      "She encounters a sword burried in a giant boulder.\n",
      "She pulls it out with ease - birds sing, sun shines, the world trembles.\n",
      "There is a dragon eating up lambs and villagers. She proceeds to kill it.\n",
      "The king offers his son in marriage and half the kingdom.\n"
     ]
    }
   ],
   "source": [
    "f = Forest()"
   ]
  },
  {
   "cell_type": "code",
   "execution_count": 3,
   "metadata": {},
   "outputs": [
    {
     "name": "stdout",
     "output_type": "stream",
     "text": [
      "Our heroine takes a stroll through the Forest and listens to her heart.\n",
      "She gladly accepts the kingdom but passes on the prince.\n",
      "THE END\n"
     ]
    }
   ],
   "source": [
    "f()"
   ]
  }
 ],
 "metadata": {
  "kernelspec": {
   "display_name": "Python 3",
   "language": "python",
   "name": "python3"
  },
  "language_info": {
   "codemirror_mode": {
    "name": "ipython",
    "version": 3
   },
   "file_extension": ".py",
   "mimetype": "text/x-python",
   "name": "python",
   "nbconvert_exporter": "python",
   "pygments_lexer": "ipython3",
   "version": "3.7.5"
  }
 },
 "nbformat": 4,
 "nbformat_minor": 2
}
