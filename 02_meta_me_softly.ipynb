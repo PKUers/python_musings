{
 "cells": [
  {
   "cell_type": "code",
   "execution_count": 1,
   "metadata": {},
   "outputs": [],
   "source": [
    "class A():\n",
    "    def __new__(cls, *args, **kwargs):\n",
    "        print('hi from __new__')\n",
    "        return super().__new__(cls)"
   ]
  },
  {
   "cell_type": "markdown",
   "metadata": {},
   "source": [
    "When an object of type type is called, `__new__` gets executed first."
   ]
  },
  {
   "cell_type": "code",
   "execution_count": 2,
   "metadata": {},
   "outputs": [
    {
     "name": "stdout",
     "output_type": "stream",
     "text": [
      "hi from __new__\n"
     ]
    },
    {
     "data": {
      "text/plain": [
       "<__main__.A at 0x7f78146c9190>"
      ]
     },
     "execution_count": 2,
     "metadata": {},
     "output_type": "execute_result"
    }
   ],
   "source": [
    "A()"
   ]
  },
  {
   "cell_type": "markdown",
   "metadata": {},
   "source": [
    "If `__new__` returns an instance of type `cls`, it gets passed to `__init__`."
   ]
  },
  {
   "cell_type": "code",
   "execution_count": 3,
   "metadata": {},
   "outputs": [],
   "source": [
    "class B(A):\n",
    "    def __init__(self):\n",
    "        print('hi from __init__')"
   ]
  },
  {
   "cell_type": "code",
   "execution_count": 4,
   "metadata": {},
   "outputs": [
    {
     "name": "stdout",
     "output_type": "stream",
     "text": [
      "hi from __new__\n",
      "hi from __init__\n"
     ]
    },
    {
     "data": {
      "text/plain": [
       "<__main__.B at 0x7f78146dd2d0>"
      ]
     },
     "execution_count": 4,
     "metadata": {},
     "output_type": "execute_result"
    }
   ],
   "source": [
    "B()"
   ]
  },
  {
   "cell_type": "markdown",
   "metadata": {},
   "source": [
    "If `__new__` returns an instace of type `!= cls`, `__init__` doesn't get called."
   ]
  },
  {
   "cell_type": "code",
   "execution_count": 5,
   "metadata": {},
   "outputs": [],
   "source": [
    "class A():\n",
    "    def __new__(cls, *args, **kwargs):\n",
    "        print('hi from __new__')\n",
    "        return 42\n",
    "    \n",
    "class B(A):\n",
    "    def __init__(self):\n",
    "        print('hi from __init__')"
   ]
  },
  {
   "cell_type": "code",
   "execution_count": 6,
   "metadata": {},
   "outputs": [
    {
     "name": "stdout",
     "output_type": "stream",
     "text": [
      "hi from __new__\n"
     ]
    },
    {
     "data": {
      "text/plain": [
       "42"
      ]
     },
     "execution_count": 6,
     "metadata": {},
     "output_type": "execute_result"
    }
   ],
   "source": [
    "B()"
   ]
  },
  {
   "cell_type": "markdown",
   "metadata": {},
   "source": [
    "A method defined on a class becomes an instance method on the object the class creates."
   ]
  },
  {
   "cell_type": "code",
   "execution_count": 7,
   "metadata": {},
   "outputs": [],
   "source": [
    "class Klass():\n",
    "    def just_a_method_on_Klass(x): print(f'hi, I got a {x}')"
   ]
  },
  {
   "cell_type": "code",
   "execution_count": 8,
   "metadata": {},
   "outputs": [
    {
     "name": "stdout",
     "output_type": "stream",
     "text": [
      "hi, I got a sneaky suspicion\n"
     ]
    }
   ],
   "source": [
    "Klass.just_a_method_on_Klass('sneaky suspicion')"
   ]
  },
  {
   "cell_type": "code",
   "execution_count": 9,
   "metadata": {},
   "outputs": [
    {
     "name": "stdout",
     "output_type": "stream",
     "text": [
      "hi, I got a <__main__.Klass object at 0x7f78146c9910>\n"
     ]
    }
   ],
   "source": [
    "Klass().just_a_method_on_Klass() # got bound to the instance!"
   ]
  },
  {
   "cell_type": "markdown",
   "metadata": {},
   "source": [
    "## Metaclasses"
   ]
  },
  {
   "cell_type": "markdown",
   "metadata": {},
   "source": [
    "A metaclass can be defined."
   ]
  },
  {
   "cell_type": "code",
   "execution_count": 10,
   "metadata": {},
   "outputs": [],
   "source": [
    "class Meta(type): # need to inherit from type\n",
    "    def __new__(cls, name, bases, dct): # same signature as type(...) apart from additional arg 0\n",
    "        print('hi from __new__ @ meta')\n",
    "        dct['signature'] = 'Leonardo di ser Piero da Vinci' # artist's signature\n",
    "        klass = super().__new__(cls, name, bases, dct) # need to return an object of type cls \n",
    "                                                       # else __init__ won't get called\n",
    "        print(klass)\n",
    "        return klass\n",
    "    \n",
    "    def __init__(cls, name, bases, dct):\n",
    "        print('hi from __init__ @ meta')"
   ]
  },
  {
   "cell_type": "markdown",
   "metadata": {},
   "source": [
    "It creates and initializes an object of type type, a class."
   ]
  },
  {
   "cell_type": "code",
   "execution_count": 11,
   "metadata": {},
   "outputs": [
    {
     "name": "stdout",
     "output_type": "stream",
     "text": [
      "hi from __new__ @ meta\n",
      "<class '__main__.A'>\n",
      "hi from __init__ @ meta\n"
     ]
    }
   ],
   "source": [
    "class A(metaclass=Meta): pass"
   ]
  },
  {
   "cell_type": "code",
   "execution_count": 12,
   "metadata": {},
   "outputs": [
    {
     "data": {
      "text/plain": [
       "'Leonardo di ser Piero da Vinci'"
      ]
     },
     "execution_count": 12,
     "metadata": {},
     "output_type": "execute_result"
    }
   ],
   "source": [
    "A().signature"
   ]
  },
  {
   "cell_type": "markdown",
   "metadata": {},
   "source": [
    "A method defined on a metaclass behaves just like a method defined on a class."
   ]
  },
  {
   "cell_type": "code",
   "execution_count": 13,
   "metadata": {},
   "outputs": [],
   "source": [
    "class Meta(type):\n",
    "    def just_a_method_on_Meta(x): print(f'hi, I got a {x}')"
   ]
  },
  {
   "cell_type": "code",
   "execution_count": 14,
   "metadata": {},
   "outputs": [],
   "source": [
    "class A(metaclass=Meta): pass"
   ]
  },
  {
   "cell_type": "code",
   "execution_count": 15,
   "metadata": {},
   "outputs": [
    {
     "name": "stdout",
     "output_type": "stream",
     "text": [
      "hi, I got a doughnut\n"
     ]
    }
   ],
   "source": [
    "Meta.just_a_method_on_Meta('doughnut')"
   ]
  },
  {
   "cell_type": "markdown",
   "metadata": {},
   "source": [
    "It becomes an instance method of the class a metaclass constructs."
   ]
  },
  {
   "cell_type": "code",
   "execution_count": 16,
   "metadata": {},
   "outputs": [
    {
     "name": "stdout",
     "output_type": "stream",
     "text": [
      "hi, I got a <class '__main__.A'>\n"
     ]
    }
   ],
   "source": [
    "A.just_a_method_on_Meta()"
   ]
  },
  {
   "cell_type": "code",
   "execution_count": 17,
   "metadata": {},
   "outputs": [
    {
     "ename": "AttributeError",
     "evalue": "'A' object has no attribute 'just_a_method_on_Meta'",
     "output_type": "error",
     "traceback": [
      "\u001b[0;31m---------------------------------------------------------------------------\u001b[0m",
      "\u001b[0;31mAttributeError\u001b[0m                            Traceback (most recent call last)",
      "\u001b[0;32m<ipython-input-17-70e16b7744a6>\u001b[0m in \u001b[0;36m<module>\u001b[0;34m\u001b[0m\n\u001b[0;32m----> 1\u001b[0;31m \u001b[0mA\u001b[0m\u001b[0;34m(\u001b[0m\u001b[0;34m)\u001b[0m\u001b[0;34m.\u001b[0m\u001b[0mjust_a_method_on_Meta\u001b[0m\u001b[0;34m(\u001b[0m\u001b[0;34m)\u001b[0m\u001b[0;34m\u001b[0m\u001b[0;34m\u001b[0m\u001b[0m\n\u001b[0m",
      "\u001b[0;31mAttributeError\u001b[0m: 'A' object has no attribute 'just_a_method_on_Meta'"
     ]
    }
   ],
   "source": [
    "A().just_a_method_on_Meta()"
   ]
  },
  {
   "cell_type": "markdown",
   "metadata": {},
   "source": [
    "When you put a method in a dct passed to the constructor (`__new__`) of type, it doesn't live on the metaclass.\n",
    "\n",
    "It behaves like a method defined on a class."
   ]
  },
  {
   "cell_type": "code",
   "execution_count": 18,
   "metadata": {},
   "outputs": [],
   "source": [
    "class Meta(type):\n",
    "    def __new__(cls, name, bases, dct):\n",
    "        dct['a_method_from_a_dict'] = lambda x: print(f'hi, I got a {x}')\n",
    "        return  super().__new__(cls, name, bases, dct)"
   ]
  },
  {
   "cell_type": "code",
   "execution_count": 19,
   "metadata": {},
   "outputs": [],
   "source": [
    "class A(metaclass=Meta): pass"
   ]
  },
  {
   "cell_type": "code",
   "execution_count": 20,
   "metadata": {},
   "outputs": [
    {
     "ename": "AttributeError",
     "evalue": "type object 'Meta' has no attribute 'a_method_from_a_dict'",
     "output_type": "error",
     "traceback": [
      "\u001b[0;31m---------------------------------------------------------------------------\u001b[0m",
      "\u001b[0;31mAttributeError\u001b[0m                            Traceback (most recent call last)",
      "\u001b[0;32m<ipython-input-20-54737038d8f3>\u001b[0m in \u001b[0;36m<module>\u001b[0;34m\u001b[0m\n\u001b[0;32m----> 1\u001b[0;31m \u001b[0mMeta\u001b[0m\u001b[0;34m.\u001b[0m\u001b[0ma_method_from_a_dict\u001b[0m\u001b[0;34m(\u001b[0m\u001b[0;34m)\u001b[0m\u001b[0;34m\u001b[0m\u001b[0;34m\u001b[0m\u001b[0m\n\u001b[0m",
      "\u001b[0;31mAttributeError\u001b[0m: type object 'Meta' has no attribute 'a_method_from_a_dict'"
     ]
    }
   ],
   "source": [
    "Meta.a_method_from_a_dict()"
   ]
  },
  {
   "cell_type": "code",
   "execution_count": 21,
   "metadata": {},
   "outputs": [
    {
     "name": "stdout",
     "output_type": "stream",
     "text": [
      "hi, I got a cheesburger\n"
     ]
    }
   ],
   "source": [
    "A.a_method_from_a_dict('cheesburger')"
   ]
  },
  {
   "cell_type": "markdown",
   "metadata": {},
   "source": [
    "It becomes an instance method of an object that the class constructs."
   ]
  },
  {
   "cell_type": "code",
   "execution_count": 22,
   "metadata": {},
   "outputs": [
    {
     "name": "stdout",
     "output_type": "stream",
     "text": [
      "hi, I got a <__main__.A object at 0x7f78146c9990>\n"
     ]
    }
   ],
   "source": [
    "A().a_method_from_a_dict()"
   ]
  },
  {
   "cell_type": "markdown",
   "metadata": {},
   "source": [
    "These two are equivalent."
   ]
  },
  {
   "cell_type": "code",
   "execution_count": 23,
   "metadata": {},
   "outputs": [],
   "source": [
    "class Meta(type):\n",
    "    def __new__(cls, name, bases, dct):\n",
    "        dct['p'] = lambda x: print(x)\n",
    "        return super().__new__(cls, name, bases, dct)\n",
    "\n",
    "class A_with_meta(metaclass=Meta): pass\n",
    "\n",
    "class A_without_meta():\n",
    "    def p(self): print(self)"
   ]
  },
  {
   "cell_type": "code",
   "execution_count": 24,
   "metadata": {},
   "outputs": [
    {
     "name": "stdout",
     "output_type": "stream",
     "text": [
      "with meta\n"
     ]
    }
   ],
   "source": [
    "A_with_meta.p('with meta')"
   ]
  },
  {
   "cell_type": "code",
   "execution_count": 25,
   "metadata": {},
   "outputs": [
    {
     "name": "stdout",
     "output_type": "stream",
     "text": [
      "without meta\n"
     ]
    }
   ],
   "source": [
    "A_without_meta.p('without meta')"
   ]
  },
  {
   "cell_type": "code",
   "execution_count": 26,
   "metadata": {},
   "outputs": [
    {
     "name": "stdout",
     "output_type": "stream",
     "text": [
      "<__main__.A_with_meta object at 0x7f7814675050>\n"
     ]
    }
   ],
   "source": [
    "A_with_meta().p()"
   ]
  },
  {
   "cell_type": "code",
   "execution_count": 27,
   "metadata": {},
   "outputs": [
    {
     "data": {
      "text/plain": [
       "<__main__.A_without_meta at 0x7f7814675490>"
      ]
     },
     "execution_count": 27,
     "metadata": {},
     "output_type": "execute_result"
    }
   ],
   "source": [
    "A_without_meta()"
   ]
  }
 ],
 "metadata": {
  "kernelspec": {
   "display_name": "Python 3",
   "language": "python",
   "name": "python3"
  },
  "language_info": {
   "codemirror_mode": {
    "name": "ipython",
    "version": 3
   },
   "file_extension": ".py",
   "mimetype": "text/x-python",
   "name": "python",
   "nbconvert_exporter": "python",
   "pygments_lexer": "ipython3",
   "version": "3.7.5"
  }
 },
 "nbformat": 4,
 "nbformat_minor": 2
}
