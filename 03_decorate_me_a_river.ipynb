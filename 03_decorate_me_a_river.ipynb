{
 "cells": [
  {
   "cell_type": "markdown",
   "metadata": {},
   "source": [
    "A decorator is a function that takes a function and returns a function."
   ]
  },
  {
   "cell_type": "code",
   "execution_count": 1,
   "metadata": {},
   "outputs": [],
   "source": [
    "def river(): print('I flow.')"
   ]
  },
  {
   "cell_type": "code",
   "execution_count": 2,
   "metadata": {},
   "outputs": [
    {
     "name": "stdout",
     "output_type": "stream",
     "text": [
      "I flow.\n"
     ]
    }
   ],
   "source": [
    "river()"
   ]
  },
  {
   "cell_type": "code",
   "execution_count": 3,
   "metadata": {},
   "outputs": [],
   "source": [
    "def add_stars(func):\n",
    "    def _inner():\n",
    "        print('The sky is full of stars.')\n",
    "        func()\n",
    "    return _inner"
   ]
  },
  {
   "cell_type": "code",
   "execution_count": 4,
   "metadata": {},
   "outputs": [
    {
     "name": "stdout",
     "output_type": "stream",
     "text": [
      "The sky is full of stars.\n",
      "I flow.\n"
     ]
    }
   ],
   "source": [
    "decorated_river = add_stars(river)\n",
    "decorated_river()"
   ]
  },
  {
   "cell_type": "markdown",
   "metadata": {},
   "source": [
    "`@decorator_name` before a function definition is just syntactic sugar."
   ]
  },
  {
   "cell_type": "code",
   "execution_count": 5,
   "metadata": {},
   "outputs": [
    {
     "name": "stdout",
     "output_type": "stream",
     "text": [
      "The sky is full of stars.\n",
      "I fall into a sea.\n"
     ]
    }
   ],
   "source": [
    "@add_stars\n",
    "def river():\n",
    "    print('I fall into a sea.')\n",
    "    \n",
    "river()"
   ]
  },
  {
   "cell_type": "markdown",
   "metadata": {},
   "source": [
    "You can stack decorators."
   ]
  },
  {
   "cell_type": "code",
   "execution_count": 6,
   "metadata": {},
   "outputs": [],
   "source": [
    "def add_moon(func):\n",
    "    def _inner():\n",
    "        print('The moon is full.')\n",
    "        func()\n",
    "    return _inner"
   ]
  },
  {
   "cell_type": "code",
   "execution_count": 7,
   "metadata": {},
   "outputs": [
    {
     "name": "stdout",
     "output_type": "stream",
     "text": [
      "The moon is full.\n",
      "The sky is full of stars.\n",
      "The moral law is within me.\n"
     ]
    }
   ],
   "source": [
    "@add_moon\n",
    "@add_stars\n",
    "def river():\n",
    "    print('The moral law is within me.')\n",
    "    \n",
    "river()"
   ]
  },
  {
   "cell_type": "markdown",
   "metadata": {},
   "source": [
    "A decorator can take arguments.\n",
    "\n",
    "It is then a function that takes arguments and returns a decorator that takes in a function that returns a modified function."
   ]
  },
  {
   "cell_type": "code",
   "execution_count": 8,
   "metadata": {},
   "outputs": [
    {
     "name": "stdout",
     "output_type": "stream",
     "text": [
      "I am one with the ecosystem.\n",
      "I am one with the ecosystem.\n"
     ]
    }
   ],
   "source": [
    "def decorator_factory(times):\n",
    "    def decorator(func):\n",
    "        def _inner():\n",
    "            for i in range(times):\n",
    "                func()\n",
    "        return _inner\n",
    "    return decorator\n",
    "\n",
    "@decorator_factory(2)\n",
    "def river():\n",
    "    print('I am one with the ecosystem.')\n",
    "    \n",
    "river()"
   ]
  },
  {
   "cell_type": "markdown",
   "metadata": {},
   "source": [
    "A decorator can take optional keyword arguments."
   ]
  },
  {
   "cell_type": "code",
   "execution_count": 9,
   "metadata": {},
   "outputs": [
    {
     "name": "stdout",
     "output_type": "stream",
     "text": [
      "Freshwater is life.\n"
     ]
    }
   ],
   "source": [
    "def decorator_factory(func=None, times=1):\n",
    "    def decorator(func):\n",
    "        def _inner():\n",
    "            for i in range(times):\n",
    "                func()\n",
    "        return _inner\n",
    "    \n",
    "    # no arguments were passed\n",
    "    if func: return decorator(func)\n",
    "    \n",
    "    return decorator\n",
    "\n",
    "@decorator_factory\n",
    "def river():\n",
    "    print(f'Freshwater is life.')\n",
    "    \n",
    "river()              "
   ]
  },
  {
   "cell_type": "code",
   "execution_count": 10,
   "metadata": {},
   "outputs": [
    {
     "name": "stdout",
     "output_type": "stream",
     "text": [
      "Freshwater is life.\n",
      "Freshwater is life.\n"
     ]
    }
   ],
   "source": [
    "@decorator_factory(times=2)\n",
    "def river():\n",
    "    print(f'Freshwater is life.')\n",
    "    \n",
    "river()              "
   ]
  },
  {
   "cell_type": "markdown",
   "metadata": {},
   "source": [
    "The decorated function can take args and kwargs."
   ]
  },
  {
   "cell_type": "code",
   "execution_count": 11,
   "metadata": {},
   "outputs": [
    {
     "name": "stdout",
     "output_type": "stream",
     "text": [
      "BEWARE\n",
      "I am a force of nature.\n"
     ]
    }
   ],
   "source": [
    "def add_warning(func):\n",
    "    def _inner(*args, **kwargs):\n",
    "        print('BEWARE')\n",
    "        func(*args, **kwargs)\n",
    "    return _inner\n",
    "\n",
    "@add_warning\n",
    "def river(who_am_i):\n",
    "    print(f'I am {who_am_i}.')\n",
    "    \n",
    "river('a force of nature')"
   ]
  },
  {
   "cell_type": "code",
   "execution_count": 12,
   "metadata": {},
   "outputs": [
    {
     "name": "stdout",
     "output_type": "stream",
     "text": [
      "BEWARE\n",
      "I am polluted by corporations dumping waste in me and shifting the cost to the society due to lack of strong government and regulations.\n"
     ]
    }
   ],
   "source": [
    "river('polluted by corporations dumping waste in me and shifting the cost to the society due to lack of strong government and regulations')"
   ]
  },
  {
   "cell_type": "markdown",
   "metadata": {},
   "source": [
    "Being decorated replaces the function with what the decorator returns."
   ]
  },
  {
   "cell_type": "code",
   "execution_count": 13,
   "metadata": {},
   "outputs": [
    {
     "data": {
      "text/plain": [
       "'_inner'"
      ]
     },
     "execution_count": 13,
     "metadata": {},
     "output_type": "execute_result"
    }
   ],
   "source": [
    "river.__name__"
   ]
  },
  {
   "cell_type": "code",
   "execution_count": 14,
   "metadata": {},
   "outputs": [
    {
     "data": {
      "text/plain": [
       "<Signature (*args, **kwargs)>"
      ]
     },
     "execution_count": 14,
     "metadata": {},
     "output_type": "execute_result"
    }
   ],
   "source": [
    "import inspect\n",
    "\n",
    "inspect.signature(river)"
   ]
  },
  {
   "cell_type": "markdown",
   "metadata": {},
   "source": [
    "You can fix this by decorating the returned function with `@functools.wraps`."
   ]
  },
  {
   "cell_type": "code",
   "execution_count": 15,
   "metadata": {},
   "outputs": [
    {
     "name": "stdout",
     "output_type": "stream",
     "text": [
      "BEWARE\n",
      "I am more dangerous than you think - never let children play in me alone, currents are very dangerous.\n"
     ]
    }
   ],
   "source": [
    "import functools\n",
    "\n",
    "def add_warning(func):\n",
    "    @functools.wraps(func)\n",
    "    def _inner(*args, **kwargs):\n",
    "        print('BEWARE')\n",
    "        func(*args, **kwargs)\n",
    "    return _inner\n",
    "\n",
    "@add_warning\n",
    "def river(who_am_i):\n",
    "    print(f'I am {who_am_i}.')\n",
    "    \n",
    "river('more dangerous than you think - never let children play in me alone, currents are very dangerous')"
   ]
  },
  {
   "cell_type": "code",
   "execution_count": 16,
   "metadata": {},
   "outputs": [
    {
     "data": {
      "text/plain": [
       "('river', <Signature (who_am_i)>)"
      ]
     },
     "execution_count": 16,
     "metadata": {},
     "output_type": "execute_result"
    }
   ],
   "source": [
    "river.__name__, inspect.signature(river)"
   ]
  },
  {
   "cell_type": "markdown",
   "metadata": {},
   "source": [
    "A decorator can be a class."
   ]
  },
  {
   "cell_type": "code",
   "execution_count": 17,
   "metadata": {},
   "outputs": [
    {
     "name": "stdout",
     "output_type": "stream",
     "text": [
      "DISCLAIMER: No rivers were hurt in production of this NB.\n",
      "The salmons tickle as they swim upstream.\n"
     ]
    }
   ],
   "source": [
    "class AddDisclaimer:\n",
    "    def __init__(self, func):\n",
    "        functools.update_wrapper(self, func)\n",
    "        self.func = func\n",
    "\n",
    "    def __call__(self, *args, **kwargs):\n",
    "        print('DISCLAIMER: No rivers were hurt in production of this NB.')\n",
    "        return self.func(*args, **kwargs)\n",
    "\n",
    "@AddDisclaimer\n",
    "def river():\n",
    "    print('The salmons tickle as they swim upstream.')\n",
    "    \n",
    "river()"
   ]
  },
  {
   "cell_type": "markdown",
   "metadata": {},
   "source": [
    "But even a function can keep state."
   ]
  },
  {
   "cell_type": "code",
   "execution_count": 18,
   "metadata": {},
   "outputs": [],
   "source": [
    "def count_calls(func):\n",
    "    def _inner(*args, **kwargs):\n",
    "        _inner.call_count += 1\n",
    "        func(*args, **kwargs)\n",
    "    _inner.call_count = 0\n",
    "    return _inner\n",
    "\n",
    "@count_calls\n",
    "def river():\n",
    "    print(f'With every passing day the environment becomes cleaner. I feel better.')"
   ]
  },
  {
   "cell_type": "code",
   "execution_count": 19,
   "metadata": {},
   "outputs": [
    {
     "name": "stdout",
     "output_type": "stream",
     "text": [
      "With every passing day the environment becomes cleaner. I feel better.\n"
     ]
    }
   ],
   "source": [
    "river()"
   ]
  },
  {
   "cell_type": "code",
   "execution_count": 20,
   "metadata": {},
   "outputs": [
    {
     "data": {
      "text/plain": [
       "1"
      ]
     },
     "execution_count": 20,
     "metadata": {},
     "output_type": "execute_result"
    }
   ],
   "source": [
    "river.call_count"
   ]
  },
  {
   "cell_type": "code",
   "execution_count": 21,
   "metadata": {},
   "outputs": [
    {
     "name": "stdout",
     "output_type": "stream",
     "text": [
      "With every passing day the environment becomes cleaner. I feel better.\n",
      "With every passing day the environment becomes cleaner. I feel better.\n",
      "With every passing day the environment becomes cleaner. I feel better.\n",
      "With every passing day the environment becomes cleaner. I feel better.\n",
      "With every passing day the environment becomes cleaner. I feel better.\n",
      "With every passing day the environment becomes cleaner. I feel better.\n",
      "With every passing day the environment becomes cleaner. I feel better.\n",
      "With every passing day the environment becomes cleaner. I feel better.\n",
      "With every passing day the environment becomes cleaner. I feel better.\n"
     ]
    }
   ],
   "source": [
    "for _ in range(9): river()"
   ]
  },
  {
   "cell_type": "code",
   "execution_count": 22,
   "metadata": {},
   "outputs": [
    {
     "data": {
      "text/plain": [
       "10"
      ]
     },
     "execution_count": 22,
     "metadata": {},
     "output_type": "execute_result"
    }
   ],
   "source": [
    "river.call_count"
   ]
  }
 ],
 "metadata": {
  "kernelspec": {
   "display_name": "Python 3",
   "language": "python",
   "name": "python3"
  },
  "language_info": {
   "codemirror_mode": {
    "name": "ipython",
    "version": 3
   },
   "file_extension": ".py",
   "mimetype": "text/x-python",
   "name": "python",
   "nbconvert_exporter": "python",
   "pygments_lexer": "ipython3",
   "version": "3.7.5"
  }
 },
 "nbformat": 4,
 "nbformat_minor": 2
}
